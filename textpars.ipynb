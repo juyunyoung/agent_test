{
 "cells": [
  {
   "cell_type": "code",
   "execution_count": 2,
   "metadata": {},
   "outputs": [
    {
     "name": "stdout",
     "output_type": "stream",
     "text": [
      "Requirement already satisfied: pip in /Users/yunyoungju/.pyenv/versions/3.12.3/lib/python3.12/site-packages (24.0)\n",
      "Collecting pip\n",
      "  Downloading pip-25.0.1-py3-none-any.whl.metadata (3.7 kB)\n",
      "Downloading pip-25.0.1-py3-none-any.whl (1.8 MB)\n",
      "\u001b[2K   \u001b[90m━━━━━━━━━━━━━━━━━━━━━━━━━━━━━━━━━━━━━━━━\u001b[0m \u001b[32m1.8/1.8 MB\u001b[0m \u001b[31m2.5 MB/s\u001b[0m eta \u001b[36m0:00:00\u001b[0ma \u001b[36m0:00:01\u001b[0m\n",
      "\u001b[?25hInstalling collected packages: pip\n",
      "  Attempting uninstall: pip\n",
      "    Found existing installation: pip 24.0\n",
      "    Uninstalling pip-24.0:\n",
      "      Successfully uninstalled pip-24.0\n",
      "Successfully installed pip-25.0.1\n",
      "Note: you may need to restart the kernel to use updated packages.\n"
     ]
    }
   ],
   "source": [
    "%pip install --upgrade pip"
   ]
  },
  {
   "cell_type": "code",
   "execution_count": 3,
   "metadata": {},
   "outputs": [
    {
     "name": "stdout",
     "output_type": "stream",
     "text": [
      "Collecting touch\n",
      "  Using cached touch-2020.12.3-py3-none-any.whl\n",
      "Collecting values (from touch)\n",
      "  Using cached values-66.0.3.tar.gz (1.2 kB)\n",
      "  Installing build dependencies ... \u001b[?25ldone\n",
      "\u001b[?25h  Getting requirements to build wheel ... \u001b[?25ldone\n",
      "\u001b[?25h  Preparing metadata (pyproject.toml) ... \u001b[?25ldone\n",
      "\u001b[?25hBuilding wheels for collected packages: values\n",
      "  Building wheel for values (pyproject.toml) ... \u001b[?25lerror\n",
      "  \u001b[1;31merror\u001b[0m: \u001b[1msubprocess-exited-with-error\u001b[0m\n",
      "  \n",
      "  \u001b[31m×\u001b[0m \u001b[32mBuilding wheel for values \u001b[0m\u001b[1;32m(\u001b[0m\u001b[32mpyproject.toml\u001b[0m\u001b[1;32m)\u001b[0m did not run successfully.\n",
      "  \u001b[31m│\u001b[0m exit code: \u001b[1;36m1\u001b[0m\n",
      "  \u001b[31m╰─>\u001b[0m \u001b[31m[52 lines of output]\u001b[0m\n",
      "  \u001b[31m   \u001b[0m /private/var/folders/6j/_9bnlb3j6lv89cf5l8j2xdfr0000gn/T/pip-build-env-uy7vofwa/overlay/lib/python3.12/site-packages/setuptools/_distutils/dist.py:289: UserWarning: Unknown distribution option: 'readme'\n",
      "  \u001b[31m   \u001b[0m   warnings.warn(msg)\n",
      "  \u001b[31m   \u001b[0m running bdist_wheel\n",
      "  \u001b[31m   \u001b[0m running build\n",
      "  \u001b[31m   \u001b[0m installing to build/bdist.macosx-15.0-arm64/wheel\n",
      "  \u001b[31m   \u001b[0m running install\n",
      "  \u001b[31m   \u001b[0m Traceback (most recent call last):\n",
      "  \u001b[31m   \u001b[0m   File \"/Users/yunyoungju/.pyenv/versions/3.12.3/lib/python3.12/site-packages/pip/_vendor/pyproject_hooks/_in_process/_in_process.py\", line 389, in <module>\n",
      "  \u001b[31m   \u001b[0m     main()\n",
      "  \u001b[31m   \u001b[0m   File \"/Users/yunyoungju/.pyenv/versions/3.12.3/lib/python3.12/site-packages/pip/_vendor/pyproject_hooks/_in_process/_in_process.py\", line 373, in main\n",
      "  \u001b[31m   \u001b[0m     json_out[\"return_val\"] = hook(**hook_input[\"kwargs\"])\n",
      "  \u001b[31m   \u001b[0m                              ^^^^^^^^^^^^^^^^^^^^^^^^^^^^\n",
      "  \u001b[31m   \u001b[0m   File \"/Users/yunyoungju/.pyenv/versions/3.12.3/lib/python3.12/site-packages/pip/_vendor/pyproject_hooks/_in_process/_in_process.py\", line 280, in build_wheel\n",
      "  \u001b[31m   \u001b[0m     return _build_backend().build_wheel(\n",
      "  \u001b[31m   \u001b[0m            ^^^^^^^^^^^^^^^^^^^^^^^^^^^^^\n",
      "  \u001b[31m   \u001b[0m   File \"/private/var/folders/6j/_9bnlb3j6lv89cf5l8j2xdfr0000gn/T/pip-build-env-uy7vofwa/overlay/lib/python3.12/site-packages/setuptools/build_meta.py\", line 438, in build_wheel\n",
      "  \u001b[31m   \u001b[0m     return _build(['bdist_wheel', '--dist-info-dir', str(metadata_directory)])\n",
      "  \u001b[31m   \u001b[0m            ^^^^^^^^^^^^^^^^^^^^^^^^^^^^^^^^^^^^^^^^^^^^^^^^^^^^^^^^^^^^^^^^^^^\n",
      "  \u001b[31m   \u001b[0m   File \"/private/var/folders/6j/_9bnlb3j6lv89cf5l8j2xdfr0000gn/T/pip-build-env-uy7vofwa/overlay/lib/python3.12/site-packages/setuptools/build_meta.py\", line 426, in _build\n",
      "  \u001b[31m   \u001b[0m     return self._build_with_temp_dir(\n",
      "  \u001b[31m   \u001b[0m            ^^^^^^^^^^^^^^^^^^^^^^^^^^\n",
      "  \u001b[31m   \u001b[0m   File \"/private/var/folders/6j/_9bnlb3j6lv89cf5l8j2xdfr0000gn/T/pip-build-env-uy7vofwa/overlay/lib/python3.12/site-packages/setuptools/build_meta.py\", line 407, in _build_with_temp_dir\n",
      "  \u001b[31m   \u001b[0m     self.run_setup()\n",
      "  \u001b[31m   \u001b[0m   File \"/private/var/folders/6j/_9bnlb3j6lv89cf5l8j2xdfr0000gn/T/pip-build-env-uy7vofwa/overlay/lib/python3.12/site-packages/setuptools/build_meta.py\", line 522, in run_setup\n",
      "  \u001b[31m   \u001b[0m     super().run_setup(setup_script=setup_script)\n",
      "  \u001b[31m   \u001b[0m   File \"/private/var/folders/6j/_9bnlb3j6lv89cf5l8j2xdfr0000gn/T/pip-build-env-uy7vofwa/overlay/lib/python3.12/site-packages/setuptools/build_meta.py\", line 320, in run_setup\n",
      "  \u001b[31m   \u001b[0m     exec(code, locals())\n",
      "  \u001b[31m   \u001b[0m   File \"<string>\", line 10, in <module>\n",
      "  \u001b[31m   \u001b[0m   File \"/private/var/folders/6j/_9bnlb3j6lv89cf5l8j2xdfr0000gn/T/pip-build-env-uy7vofwa/overlay/lib/python3.12/site-packages/setuptools/__init__.py\", line 117, in setup\n",
      "  \u001b[31m   \u001b[0m     return distutils.core.setup(**attrs)\n",
      "  \u001b[31m   \u001b[0m            ^^^^^^^^^^^^^^^^^^^^^^^^^^^^^\n",
      "  \u001b[31m   \u001b[0m   File \"/private/var/folders/6j/_9bnlb3j6lv89cf5l8j2xdfr0000gn/T/pip-build-env-uy7vofwa/overlay/lib/python3.12/site-packages/setuptools/_distutils/core.py\", line 186, in setup\n",
      "  \u001b[31m   \u001b[0m     return run_commands(dist)\n",
      "  \u001b[31m   \u001b[0m            ^^^^^^^^^^^^^^^^^^\n",
      "  \u001b[31m   \u001b[0m   File \"/private/var/folders/6j/_9bnlb3j6lv89cf5l8j2xdfr0000gn/T/pip-build-env-uy7vofwa/overlay/lib/python3.12/site-packages/setuptools/_distutils/core.py\", line 202, in run_commands\n",
      "  \u001b[31m   \u001b[0m     dist.run_commands()\n",
      "  \u001b[31m   \u001b[0m   File \"/private/var/folders/6j/_9bnlb3j6lv89cf5l8j2xdfr0000gn/T/pip-build-env-uy7vofwa/overlay/lib/python3.12/site-packages/setuptools/_distutils/dist.py\", line 1002, in run_commands\n",
      "  \u001b[31m   \u001b[0m     self.run_command(cmd)\n",
      "  \u001b[31m   \u001b[0m   File \"/private/var/folders/6j/_9bnlb3j6lv89cf5l8j2xdfr0000gn/T/pip-build-env-uy7vofwa/overlay/lib/python3.12/site-packages/setuptools/dist.py\", line 1105, in run_command\n",
      "  \u001b[31m   \u001b[0m     super().run_command(command)\n",
      "  \u001b[31m   \u001b[0m   File \"/private/var/folders/6j/_9bnlb3j6lv89cf5l8j2xdfr0000gn/T/pip-build-env-uy7vofwa/overlay/lib/python3.12/site-packages/setuptools/_distutils/dist.py\", line 1021, in run_command\n",
      "  \u001b[31m   \u001b[0m     cmd_obj.run()\n",
      "  \u001b[31m   \u001b[0m   File \"/private/var/folders/6j/_9bnlb3j6lv89cf5l8j2xdfr0000gn/T/pip-build-env-uy7vofwa/overlay/lib/python3.12/site-packages/setuptools/command/bdist_wheel.py\", line 405, in run\n",
      "  \u001b[31m   \u001b[0m     self.run_command(\"install\")\n",
      "  \u001b[31m   \u001b[0m   File \"/private/var/folders/6j/_9bnlb3j6lv89cf5l8j2xdfr0000gn/T/pip-build-env-uy7vofwa/overlay/lib/python3.12/site-packages/setuptools/_distutils/cmd.py\", line 357, in run_command\n",
      "  \u001b[31m   \u001b[0m     self.distribution.run_command(command)\n",
      "  \u001b[31m   \u001b[0m   File \"/private/var/folders/6j/_9bnlb3j6lv89cf5l8j2xdfr0000gn/T/pip-build-env-uy7vofwa/overlay/lib/python3.12/site-packages/setuptools/dist.py\", line 1105, in run_command\n",
      "  \u001b[31m   \u001b[0m     super().run_command(command)\n",
      "  \u001b[31m   \u001b[0m   File \"/private/var/folders/6j/_9bnlb3j6lv89cf5l8j2xdfr0000gn/T/pip-build-env-uy7vofwa/overlay/lib/python3.12/site-packages/setuptools/_distutils/dist.py\", line 1021, in run_command\n",
      "  \u001b[31m   \u001b[0m     cmd_obj.run()\n",
      "  \u001b[31m   \u001b[0m   File \"<string>\", line 7, in run\n",
      "  \u001b[31m   \u001b[0m RuntimeError: You are trying to install a stub package values. Maybe you are using the wrong pypi? See https://nda.ya.ru/t/GljGihbC5zAGGz for details\n",
      "  \u001b[31m   \u001b[0m \u001b[31m[end of output]\u001b[0m\n",
      "  \n",
      "  \u001b[1;35mnote\u001b[0m: This error originates from a subprocess, and is likely not a problem with pip.\n",
      "\u001b[?25h\u001b[31m  ERROR: Failed building wheel for values\u001b[0m\u001b[31m\n",
      "\u001b[0mFailed to build values\n",
      "\u001b[31mERROR: Failed to build installable wheels for some pyproject.toml based projects (values)\u001b[0m\u001b[31m\n",
      "\u001b[0mNote: you may need to restart the kernel to use updated packages.\n"
     ]
    }
   ],
   "source": [
    "%pip install touch"
   ]
  },
  {
   "cell_type": "code",
   "execution_count": 5,
   "metadata": {},
   "outputs": [
    {
     "ename": "SyntaxError",
     "evalue": "invalid syntax (1315960019.py, line 1)",
     "output_type": "error",
     "traceback": [
      "  \u001b[36mCell\u001b[39m\u001b[36m \u001b[39m\u001b[32mIn[5]\u001b[39m\u001b[32m, line 1\u001b[39m\n\u001b[31m    \u001b[39m\u001b[31mpython -m %pip install --upgrade pip\u001b[39m\n                   ^\n\u001b[31mSyntaxError\u001b[39m\u001b[31m:\u001b[39m invalid syntax\n"
     ]
    }
   ],
   "source": [
    "python -m %pip install --upgrade pip\n"
   ]
  },
  {
   "cell_type": "code",
   "execution_count": null,
   "metadata": {},
   "outputs": [
    {
     "name": "stdout",
     "output_type": "stream",
     "text": [
      "{year: 2025, month: null, day: null}\n"
     ]
    }
   ],
   "source": [
    "from smolagents import HfApiModel\n",
    "from huggingface_hub import login\n",
    "from dotenv import load_dotenv\n",
    "\n",
    "load_dotenv()\n",
    "HF_TOKEN=os.getenv(\"HF_TOKEN\")\n",
    "login(HF_TOKEN)\n",
    "\n",
    "query = \"2025년 사업 실적을 가르쳐줘\"\n",
    "return_type = \" {year: 1966, month: 06, day: 09}\"\n",
    "messages = [\n",
    "  #{\"role\": \"user\", \"content\": [{\"type\": \"text\", \"text\": \"내 생일은 19770805야 라는 문장에서 년월일을 추출해주세요 리턴 형식은 {year: 1966, month: 06, day: 09} 이런 형식으로 답만 리턴해줘\"}],}\n",
    "  {\"role\": \"user\", \"content\": [{\"type\": \"text\", \"text\": f\"{query} 문장에서 년월일을 추출해주세요 리턴 형식은 {return_type}이런 형식으로 답만 리턴해줘\"}],}\n",
    "]\n",
    "\n",
    "model = HfApiModel()\n",
    "content = model(messages).content\n",
    "print(content)"
   ]
  },
  {
   "cell_type": "code",
   "execution_count": 4,
   "metadata": {},
   "outputs": [
    {
     "ename": "ModuleNotFoundError",
     "evalue": "No module named 'transformers'",
     "output_type": "error",
     "traceback": [
      "\u001b[31m---------------------------------------------------------------------------\u001b[39m",
      "\u001b[31mModuleNotFoundError\u001b[39m                       Traceback (most recent call last)",
      "\u001b[36mCell\u001b[39m\u001b[36m \u001b[39m\u001b[32mIn[4]\u001b[39m\u001b[32m, line 2\u001b[39m\n\u001b[32m      1\u001b[39m \u001b[38;5;66;03m#import touch\u001b[39;00m\n\u001b[32m----> \u001b[39m\u001b[32m2\u001b[39m \u001b[38;5;28;01mfrom\u001b[39;00m\u001b[38;5;250m \u001b[39m\u001b[34;01mtransformers\u001b[39;00m\u001b[38;5;250m \u001b[39m\u001b[38;5;28;01mimport\u001b[39;00m AutoTokenizer, AutoModelForCausalLM\n\u001b[32m      4\u001b[39m \u001b[38;5;66;03m# 모델 및 토크나이저 로드\u001b[39;00m\n\u001b[32m      5\u001b[39m tokenizer = AutoTokenizer.from_pretrained(\u001b[33m\"\u001b[39m\u001b[33mbudecosystem/sql-millennials-13b\u001b[39m\u001b[33m\"\u001b[39m)\n",
      "\u001b[31mModuleNotFoundError\u001b[39m: No module named 'transformers'"
     ]
    }
   ],
   "source": [
    "#import touch\n",
    "from transformers import AutoTokenizer, AutoModelForCausalLM\n",
    "\n",
    "# 모델 및 토크나이저 로드\n",
    "tokenizer = AutoTokenizer.from_pretrained(\"budecosystem/sql-millennials-13b\")\n",
    "model = AutoModelForCausalLM.from_pretrained(\"budecosystem/sql-millennials-13b\")\n",
    "\n",
    "\n",
    "prompt = \"\"\"\n",
    "A chat between a curious user and an artificial intelligence assistant. The assistant gives helpful, detailed, and polite answers to the user's questions.\n",
    "\n",
    "USER: Create SQL query for the given table schema and question\n",
    "ASSISTANT: \n",
    "\n",
    "Given the following table schema:\n",
    "--프로젝트 계약 정보 테이블\n",
    "CREATE TABLE PJTCONTRACT (\n",
    "    ProjectCode\tNULLABLE\tINTEGER\t , --프로젝트코드\n",
    "    ContractNumber\tNULLABLE\tSTRING\t, --계약번호\n",
    "    BusinessAreas\tNULLABLE\tSTRING\t, --사업영역\n",
    "    ProjectName\tNULLABLE\tSTRING\t, --프로젝트명\n",
    "    ContractCategory\tNULLABLE\tSTRING\t, --계약 구분\n",
    "    PrimaryDis\tNULLABLE\tSTRING\t,    -- 대공중\n",
    "    SecondaryDis\tNULLABLE\tSTRING\t,     --중공종\n",
    "    PartnerName\tNULLABLE\tSTRING\t,   --사업자 번호\n",
    "    ContractDate\tNULLABLE\tINTEGER\t,   --계약일\n",
    "    ContractStartDate\tNULLABLE\tINTEGER,\t--계약시작일\n",
    "    ContractEndDate\tNULLABLE\tINTEGER\t,  --계약 종료일\n",
    ");\n",
    "\n",
    "--프로젝 기본 정보 테이블 \n",
    "CREATE TABLE PJTBASIC (\n",
    "    PJTCode\tNULLABLE\tINTEGER, --\t현장코드\n",
    "    PJTName\tNULLABLE\tSTRING, --\t현장명\n",
    "    BizArea\tNULLABLE\tSTRING,\t--지역\n",
    "    Add\tNULLABLE\tSTRING,\t--주소\n",
    "    BizCategory\tNULLABLE\tSTRING,\t--사업유형\n",
    "    CusCategory\tNULLABLE\tSTRING, \t--입찰 유형\n",
    "    ST\tNULLABLE\tINTEGER,\t--시작일\n",
    "    ED\tNULLABLE\tINTEGER\t,  --종료일\n",
    "    PM\tNULLABLE\tSTRING\t,  --담당자 \n",
    ");\n",
    "\n",
    "\n",
    "\n",
    "Query for: Find the data where deleteyn is 'Y' and updatedate is after 2025.\n",
    "\"\"\"\n",
    "\n",
    "\n",
    "# 입력 문장 토큰화\n",
    "inputs = tokenizer(prompt, return_tensors=\"pt\")\n",
    "\n",
    "# 모델을 사용하여 SQL 쿼리 생성\n",
    "sample = model.generate(**inputs, max_length=128)\n",
    "\n",
    "# 생성된 SQL 쿼리 디코딩\n",
    "generated_sql = tokenizer.decode(sample, skip_special_tokens=True)\n",
    "\n",
    "print(generated_sql)"
   ]
  }
 ],
 "metadata": {
  "kernelspec": {
   "display_name": "Python 3",
   "language": "python",
   "name": "python3"
  },
  "language_info": {
   "codemirror_mode": {
    "name": "ipython",
    "version": 3
   },
   "file_extension": ".py",
   "mimetype": "text/x-python",
   "name": "python",
   "nbconvert_exporter": "python",
   "pygments_lexer": "ipython3",
   "version": "3.8.20"
  }
 },
 "nbformat": 4,
 "nbformat_minor": 2
}
