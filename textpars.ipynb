{
 "cells": [
  {
   "cell_type": "code",
   "execution_count": 2,
   "metadata": {},
   "outputs": [
    {
     "name": "stderr",
     "output_type": "stream",
     "text": [
      "UsageError: Line magic function `%python` not found (But cell magic `%%python` exists, did you mean that instead?).\n"
     ]
    }
   ],
   "source": [
    "%python -m pip install --upgrade pip"
   ]
  },
  {
   "cell_type": "code",
   "execution_count": null,
   "metadata": {},
   "outputs": [],
   "source": [
    "%pip install touch"
   ]
  },
  {
   "cell_type": "code",
   "execution_count": 5,
   "metadata": {},
   "outputs": [
    {
     "ename": "SyntaxError",
     "evalue": "invalid syntax (1315960019.py, line 1)",
     "output_type": "error",
     "traceback": [
      "  \u001b[36mCell\u001b[39m\u001b[36m \u001b[39m\u001b[32mIn[5]\u001b[39m\u001b[32m, line 1\u001b[39m\n\u001b[31m    \u001b[39m\u001b[31mpython -m %pip install --upgrade pip\u001b[39m\n                   ^\n\u001b[31mSyntaxError\u001b[39m\u001b[31m:\u001b[39m invalid syntax\n"
     ]
    }
   ],
   "source": [
    "python -m %pip install --upgrade pip\n"
   ]
  },
  {
   "cell_type": "code",
   "execution_count": null,
   "metadata": {},
   "outputs": [
    {
     "name": "stdout",
     "output_type": "stream",
     "text": [
      "{year: 2025, month: null, day: null}\n"
     ]
    }
   ],
   "source": [
    "from smolagents import HfApiModel\n",
    "from huggingface_hub import login\n",
    "from dotenv import load_dotenv\n",
    "\n",
    "load_dotenv()\n",
    "HF_TOKEN=os.getenv(\"HF_TOKEN\")\n",
    "login(HF_TOKEN)\n",
    "\n",
    "query = \"2025년 사업 실적을 가르쳐줘\"\n",
    "return_type = \" {year: 1966, month: 06, day: 09}\"\n",
    "messages = [\n",
    "  #{\"role\": \"user\", \"content\": [{\"type\": \"text\", \"text\": \"내 생일은 19770805야 라는 문장에서 년월일을 추출해주세요 리턴 형식은 {year: 1966, month: 06, day: 09} 이런 형식으로 답만 리턴해줘\"}],}\n",
    "  {\"role\": \"user\", \"content\": [{\"type\": \"text\", \"text\": f\"{query} 문장에서 년월일을 추출해주세요 리턴 형식은 {return_type}이런 형식으로 답만 리턴해줘\"}],}\n",
    "]\n",
    "\n",
    "model = HfApiModel()\n",
    "content = model(messages).content\n",
    "print(content)"
   ]
  },
  {
   "cell_type": "code",
   "execution_count": 4,
   "metadata": {},
   "outputs": [
    {
     "ename": "ModuleNotFoundError",
     "evalue": "No module named 'transformers'",
     "output_type": "error",
     "traceback": [
      "\u001b[31m---------------------------------------------------------------------------\u001b[39m",
      "\u001b[31mModuleNotFoundError\u001b[39m                       Traceback (most recent call last)",
      "\u001b[36mCell\u001b[39m\u001b[36m \u001b[39m\u001b[32mIn[4]\u001b[39m\u001b[32m, line 2\u001b[39m\n\u001b[32m      1\u001b[39m \u001b[38;5;66;03m#import touch\u001b[39;00m\n\u001b[32m----> \u001b[39m\u001b[32m2\u001b[39m \u001b[38;5;28;01mfrom\u001b[39;00m\u001b[38;5;250m \u001b[39m\u001b[34;01mtransformers\u001b[39;00m\u001b[38;5;250m \u001b[39m\u001b[38;5;28;01mimport\u001b[39;00m AutoTokenizer, AutoModelForCausalLM\n\u001b[32m      4\u001b[39m \u001b[38;5;66;03m# 모델 및 토크나이저 로드\u001b[39;00m\n\u001b[32m      5\u001b[39m tokenizer = AutoTokenizer.from_pretrained(\u001b[33m\"\u001b[39m\u001b[33mbudecosystem/sql-millennials-13b\u001b[39m\u001b[33m\"\u001b[39m)\n",
      "\u001b[31mModuleNotFoundError\u001b[39m: No module named 'transformers'"
     ]
    }
   ],
   "source": [
    "#import touch\n",
    "from transformers import AutoTokenizer, AutoModelForCausalLM\n",
    "\n",
    "# 모델 및 토크나이저 로드\n",
    "tokenizer = AutoTokenizer.from_pretrained(\"budecosystem/sql-millennials-13b\")\n",
    "model = AutoModelForCausalLM.from_pretrained(\"budecosystem/sql-millennials-13b\")\n",
    "\n",
    "\n",
    "prompt = \"\"\"\n",
    "A chat between a curious user and an artificial intelligence assistant. The assistant gives helpful, detailed, and polite answers to the user's questions.\n",
    "\n",
    "USER: Create SQL query for the given table schema and question\n",
    "ASSISTANT: \n",
    "\n",
    "Given the following table schema:\n",
    "--프로젝트 계약 정보 테이블\n",
    "CREATE TABLE PJTCONTRACT (\n",
    "    ProjectCode\tNULLABLE\tINTEGER\t , --프로젝트코드\n",
    "    ContractNumber\tNULLABLE\tSTRING\t, --계약번호\n",
    "    BusinessAreas\tNULLABLE\tSTRING\t, --사업영역\n",
    "    ProjectName\tNULLABLE\tSTRING\t, --프로젝트명\n",
    "    ContractCategory\tNULLABLE\tSTRING\t, --계약 구분\n",
    "    PrimaryDis\tNULLABLE\tSTRING\t,    -- 대공중\n",
    "    SecondaryDis\tNULLABLE\tSTRING\t,     --중공종\n",
    "    PartnerName\tNULLABLE\tSTRING\t,   --사업자 번호\n",
    "    ContractDate\tNULLABLE\tINTEGER\t,   --계약일\n",
    "    ContractStartDate\tNULLABLE\tINTEGER,\t--계약시작일\n",
    "    ContractEndDate\tNULLABLE\tINTEGER\t,  --계약 종료일\n",
    ");\n",
    "\n",
    "--프로젝 기본 정보 테이블 \n",
    "CREATE TABLE PJTBASIC (\n",
    "    PJTCode\tNULLABLE\tINTEGER, --\t현장코드\n",
    "    PJTName\tNULLABLE\tSTRING, --\t현장명\n",
    "    BizArea\tNULLABLE\tSTRING,\t--지역\n",
    "    Add\tNULLABLE\tSTRING,\t--주소\n",
    "    BizCategory\tNULLABLE\tSTRING,\t--사업유형\n",
    "    CusCategory\tNULLABLE\tSTRING, \t--입찰 유형\n",
    "    ST\tNULLABLE\tINTEGER,\t--시작일\n",
    "    ED\tNULLABLE\tINTEGER\t,  --종료일\n",
    "    PM\tNULLABLE\tSTRING\t,  --담당자 \n",
    ");\n",
    "\n",
    "\n",
    "\n",
    "Query for: Find the data where deleteyn is 'Y' and updatedate is after 2025.\n",
    "\"\"\"\n",
    "\n",
    "\n",
    "# 입력 문장 토큰화\n",
    "inputs = tokenizer(prompt, return_tensors=\"pt\")\n",
    "\n",
    "# 모델을 사용하여 SQL 쿼리 생성\n",
    "sample = model.generate(**inputs, max_length=128)\n",
    "\n",
    "# 생성된 SQL 쿼리 디코딩\n",
    "generated_sql = tokenizer.decode(sample, skip_special_tokens=True)\n",
    "\n",
    "print(generated_sql)"
   ]
  }
 ],
 "metadata": {
  "kernelspec": {
   "display_name": ".venv",
   "language": "python",
   "name": "python3"
  },
  "language_info": {
   "codemirror_mode": {
    "name": "ipython",
    "version": 3
   },
   "file_extension": ".py",
   "mimetype": "text/x-python",
   "name": "python",
   "nbconvert_exporter": "python",
   "pygments_lexer": "ipython3",
   "version": "3.12.3"
  }
 },
 "nbformat": 4,
 "nbformat_minor": 2
}
